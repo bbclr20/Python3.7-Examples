{
 "cells": [
  {
   "cell_type": "markdown",
   "metadata": {},
   "source": [
    "# Data types"
   ]
  },
  {
   "cell_type": "markdown",
   "metadata": {},
   "source": [
    "# 1. Int"
   ]
  },
  {
   "cell_type": "code",
   "execution_count": 11,
   "metadata": {},
   "outputs": [
    {
     "name": "stdout",
     "output_type": "stream",
     "text": [
      "a =  10001000\n",
      "b =  41200\n"
     ]
    }
   ],
   "source": [
    "a = 1_000_1000\n",
    "print(\"a = \", a)\n",
    "\n",
    "b = 0xA0_F0\n",
    "print(\"b = \", b)"
   ]
  },
  {
   "cell_type": "code",
   "execution_count": 3,
   "metadata": {},
   "outputs": [
    {
     "name": "stdout",
     "output_type": "stream",
     "text": [
      "<class 'int'>\n",
      "<class 'int'>\n",
      "<class 'int'>\n",
      "<class 'int'>\n"
     ]
    }
   ],
   "source": [
    "print(type(10))\n",
    "\n",
    "print(type(0b1100))\n",
    "\n",
    "print(type(0o12))\n",
    "\n",
    "print(type(0xA0))"
   ]
  },
  {
   "cell_type": "code",
   "execution_count": 6,
   "metadata": {},
   "outputs": [
    {
     "name": "stdout",
     "output_type": "stream",
     "text": [
      "0o12\n",
      "0xa\n"
     ]
    }
   ],
   "source": [
    "print(oct(10))\n",
    "\n",
    "print(hex(10))"
   ]
  },
  {
   "cell_type": "markdown",
   "metadata": {},
   "source": [
    "# 2. Float"
   ]
  },
  {
   "cell_type": "code",
   "execution_count": 5,
   "metadata": {},
   "outputs": [
    {
     "name": "stdout",
     "output_type": "stream",
     "text": [
      "<class 'float'>\n",
      "0.00314\n",
      "3.14\n"
     ]
    }
   ],
   "source": [
    "print(type(3.14))\n",
    "\n",
    "print(3.14e-3)\n",
    "\n",
    "print(float(\"3.14\"))"
   ]
  },
  {
   "cell_type": "code",
   "execution_count": 9,
   "metadata": {},
   "outputs": [
    {
     "name": "stdout",
     "output_type": "stream",
     "text": [
      "a + b =  (7+6j)\n",
      "<class 'complex'>\n"
     ]
    }
   ],
   "source": [
    "a = 2 + 3j\n",
    "b = 5 + 3j\n",
    "\n",
    "print(\"a + b = \", a + b)\n",
    "print(type(a+b))"
   ]
  },
  {
   "cell_type": "markdown",
   "metadata": {},
   "source": [
    "# 3. String"
   ]
  },
  {
   "cell_type": "code",
   "execution_count": 12,
   "metadata": {},
   "outputs": [
    {
     "name": "stdout",
     "output_type": "stream",
     "text": [
      "Hello\n",
      "Hello\n"
     ]
    }
   ],
   "source": [
    "print('Hello')\n",
    "print(\"Hello\")"
   ]
  },
  {
   "cell_type": "code",
   "execution_count": 15,
   "metadata": {},
   "outputs": [
    {
     "name": "stdout",
     "output_type": "stream",
     "text": [
      "\\t\n",
      "\\t\n"
     ]
    }
   ],
   "source": [
    "print(\"\\\\t\")\n",
    "print(r\"\\t\")"
   ]
  },
  {
   "cell_type": "code",
   "execution_count": 18,
   "metadata": {},
   "outputs": [
    {
     "name": "stdout",
     "output_type": "stream",
     "text": [
      "10 / 3 = 3.3333333333333335\n",
      "10 / 3 = 3.3333333333333335\n",
      "10 / 3 = 3.3333333333333335\n"
     ]
    }
   ],
   "source": [
    "print(\"{} / {} = {}\".format(10, 3, 10/3))\n",
    "\n",
    "print(\"{2} / {1} = {0}\".format(10/3, 3, 10))\n",
    "\n",
    "print(\"{n1} / {n2} = {res}\".format(n1=10, n2=3, res=10/3))"
   ]
  },
  {
   "cell_type": "code",
   "execution_count": 22,
   "metadata": {},
   "outputs": [
    {
     "name": "stdout",
     "output_type": "stream",
     "text": [
      "10 / 3 = 3.333333\n",
      " 10 /   3 =  3.333\n",
      " 10 /   3 = 3.333\n"
     ]
    }
   ],
   "source": [
    "print(\"{0:d} / {1:d} = {2:f}\".format(10, 3, 10/3))\n",
    "\n",
    "print(\"{0:3d} / {1:3d} = {2:5.3f}\".format(10, 3, 10/3))\n",
    "\n",
    "print(\"{:3d} / {:3d} = {:5.3f}\".format(10, 3, 10/3))"
   ]
  },
  {
   "cell_type": "code",
   "execution_count": 23,
   "metadata": {},
   "outputs": [
    {
     "name": "stdout",
     "output_type": "stream",
     "text": [
      "Adventure time: finn jake ice king\n"
     ]
    }
   ],
   "source": [
    "names = [\"finn\", \"jake\", \"ice king\"]\n",
    "\n",
    "print(\"Adventure time: {n[0]} {n[1]} {n[2]}\".format(n=names))"
   ]
  },
  {
   "cell_type": "code",
   "execution_count": 27,
   "metadata": {},
   "outputs": [
    {
     "name": "stdout",
     "output_type": "stream",
     "text": [
      "12345\n",
      "ben's passward: 12345\n"
     ]
    }
   ],
   "source": [
    "pwd = {\"ben\": \"12345\", \"eve\":\"45678\"}\n",
    "\n",
    "print(\"ben's passward: {pwd[ben]}\".format(pwd=pwd))"
   ]
  },
  {
   "cell_type": "code",
   "execution_count": 33,
   "metadata": {},
   "outputs": [
    {
     "name": "stdout",
     "output_type": "stream",
     "text": [
      "Hello ben\n",
      "Hello guest\n"
     ]
    }
   ],
   "source": [
    "name = \"ben\"\n",
    "print(f\"Hello {name}\")\n",
    "\n",
    "name = None\n",
    "print(f\"Hello {'guest' if name == None else name}\")"
   ]
  },
  {
   "cell_type": "code",
   "execution_count": 34,
   "metadata": {},
   "outputs": [
    {
     "name": "stdout",
     "output_type": "stream",
     "text": [
      "pi = 3.14\n"
     ]
    }
   ],
   "source": [
    "pi = 3.1415926\n",
    "print(f\"pi = {pi:.2f}\")"
   ]
  },
  {
   "cell_type": "code",
   "execution_count": 38,
   "metadata": {},
   "outputs": [
    {
     "name": "stdout",
     "output_type": "stream",
     "text": [
      "str: 龍, <class 'str'>, 1\n",
      "utf8: b'\\xe9\\xbe\\x8d', <class 'bytes'>, 3\n",
      "big5: b'\\xc0s', <class 'bytes'>, 2\n"
     ]
    }
   ],
   "source": [
    "text = \"龍\"\n",
    "print(f\"str: {text}, {type(text)}, {len(text)}\")\n",
    "\n",
    "utf8_text = text.encode(\"UTF-8\")\n",
    "print(f\"utf8: {utf8_text}, {type(utf8_text)}, {len(utf8_text)}\")\n",
    "\n",
    "big5_text = text.encode(\"Big5\") \n",
    "print(f\"big5: {big5_text}, {type(big5_text)}, {len(big5_text)}\")"
   ]
  },
  {
   "cell_type": "markdown",
   "metadata": {},
   "source": [
    "# 3. Collections"
   ]
  },
  {
   "cell_type": "markdown",
   "metadata": {},
   "source": [
    "## (1) List"
   ]
  },
  {
   "cell_type": "code",
   "execution_count": 42,
   "metadata": {},
   "outputs": [
    {
     "name": "stdout",
     "output_type": "stream",
     "text": [
      "[1, 2, 3, 4]\n",
      "[1, 3, 4]\n",
      "[3, 4]\n"
     ]
    }
   ],
   "source": [
    "nums = [1, 2, 3]\n",
    "\n",
    "nums.append(4)\n",
    "print(nums)\n",
    "\n",
    "nums.remove(2)\n",
    "print(nums)\n",
    "\n",
    "del nums[0]\n",
    "print(nums)"
   ]
  },
  {
   "cell_type": "code",
   "execution_count": 66,
   "metadata": {},
   "outputs": [
    {
     "name": "stdout",
     "output_type": "stream",
     "text": [
      "a: 1\n",
      "b: [2, 3, 4]\n"
     ]
    }
   ],
   "source": [
    "a, *b = [1, 2, 3, 4]\n",
    "print(f\"a: {a}\")\n",
    "print(f\"b: {b}\")"
   ]
  },
  {
   "cell_type": "markdown",
   "metadata": {},
   "source": [
    "## (2) Set"
   ]
  },
  {
   "cell_type": "code",
   "execution_count": 46,
   "metadata": {},
   "outputs": [
    {
     "name": "stdout",
     "output_type": "stream",
     "text": [
      "{'jake', 'ben', 'finn'}\n",
      "Is finn in users? False\n"
     ]
    }
   ],
   "source": [
    "users = set()\n",
    "\n",
    "users.add(\"ben\")\n",
    "users.add(\"jake\")\n",
    "users.add(\"finn\")\n",
    "users.add(\"jake\") # oops\n",
    "\n",
    "print(users)\n",
    "\n",
    "users.remove(\"finn\")\n",
    "print(f\"Is finn in users? {'finn' in users}\")"
   ]
  },
  {
   "cell_type": "code",
   "execution_count": 51,
   "metadata": {},
   "outputs": [
    {
     "name": "stdout",
     "output_type": "stream",
     "text": [
      "{3, 4}\n"
     ]
    }
   ],
   "source": [
    "num_set = set(nums) \n",
    "print(num_set)"
   ]
  },
  {
   "cell_type": "markdown",
   "metadata": {},
   "source": [
    "## (3) Dictionary"
   ]
  },
  {
   "cell_type": "code",
   "execution_count": 61,
   "metadata": {},
   "outputs": [
    {
     "name": "stdout",
     "output_type": "stream",
     "text": [
      "Password of ben: 12345\n",
      "Use not fount\n"
     ]
    }
   ],
   "source": [
    "pwd = {\"ben\": 12345, \"finn\": 45678, \"jake\": 33456}\n",
    "\n",
    "print(f\"Password of ben: {pwd['ben']}\")\n",
    "      \n",
    "pwd_ice_king = pwd.get(\"ice_king\", \"Use not fount\")\n",
    "print(pwd_ice_king)"
   ]
  },
  {
   "cell_type": "code",
   "execution_count": 64,
   "metadata": {},
   "outputs": [
    {
     "name": "stdout",
     "output_type": "stream",
     "text": [
      "['ben', 'finn', 'jake']\n",
      "[12345, 45678, 33456]\n"
     ]
    }
   ],
   "source": [
    "print(list(pwd.keys()))\n",
    "print(list(pwd.values()))"
   ]
  },
  {
   "cell_type": "markdown",
   "metadata": {},
   "source": [
    "## (4) Tuple"
   ]
  },
  {
   "cell_type": "code",
   "execution_count": 69,
   "metadata": {},
   "outputs": [
    {
     "name": "stdout",
     "output_type": "stream",
     "text": [
      "(10, 20, 30), <class 'tuple'>\n"
     ]
    }
   ],
   "source": [
    "my_tup = 10, 20, 30,\n",
    "print(f\"{my_tup}, {type(my_tup)}\")"
   ]
  },
  {
   "cell_type": "code",
   "execution_count": 70,
   "metadata": {},
   "outputs": [
    {
     "name": "stdout",
     "output_type": "stream",
     "text": [
      "(10, 20, 30), <class 'tuple'>\n"
     ]
    }
   ],
   "source": [
    "my_tup = (10, 20, 30,)\n",
    "print(f\"{my_tup}, {type(my_tup)}\")"
   ]
  },
  {
   "cell_type": "code",
   "execution_count": 71,
   "metadata": {},
   "outputs": [
    {
     "name": "stdout",
     "output_type": "stream",
     "text": [
      "a: [10, 20]\n",
      "b: 30\n"
     ]
    }
   ],
   "source": [
    "*a, b = my_tup = (10, 20, 30,)\n",
    "print(f\"a: {a}\")\n",
    "print(f\"b: {b}\")"
   ]
  },
  {
   "cell_type": "markdown",
   "metadata": {},
   "source": [
    "# Variable"
   ]
  },
  {
   "cell_type": "code",
   "execution_count": 74,
   "metadata": {},
   "outputs": [
    {
     "name": "stdout",
     "output_type": "stream",
     "text": [
      "id(x): 9508256\n",
      "id(y): 9508256\n",
      "id(x): 9508288\n",
      "id(y): 9508256\n"
     ]
    }
   ],
   "source": [
    "x = 10\n",
    "y = x\n",
    "\n",
    "print(f\"id(x): {id(x)}\")\n",
    "print(f\"id(y): {id(y)}\")\n",
    "\n",
    "x += 1\n",
    "\n",
    "print(f\"id(x): {id(x)}\")\n",
    "print(f\"id(y): {id(y)}\")"
   ]
  },
  {
   "cell_type": "code",
   "execution_count": 75,
   "metadata": {},
   "outputs": [
    {
     "name": "stdout",
     "output_type": "stream",
     "text": [
      "True\n",
      "False\n"
     ]
    }
   ],
   "source": [
    "lst1 = [1, 2, 3]\n",
    "lst2 = [1, 2, 3]\n",
    "\n",
    "print(lst1 == lst2)\n",
    "print(lst1 is lst2)"
   ]
  },
  {
   "cell_type": "code",
   "execution_count": 76,
   "metadata": {},
   "outputs": [
    {
     "name": "stdout",
     "output_type": "stream",
     "text": [
      "192\n"
     ]
    }
   ],
   "source": [
    "import sys\n",
    "\n",
    "x = 10\n",
    "y = x\n",
    "z = y\n",
    "\n",
    "print(sys.getrefcount(z))"
   ]
  },
  {
   "cell_type": "code",
   "execution_count": null,
   "metadata": {},
   "outputs": [],
   "source": []
  }
 ],
 "metadata": {
  "kernelspec": {
   "display_name": "Python 3",
   "language": "python",
   "name": "python3"
  },
  "language_info": {
   "codemirror_mode": {
    "name": "ipython",
    "version": 3
   },
   "file_extension": ".py",
   "mimetype": "text/x-python",
   "name": "python",
   "nbconvert_exporter": "python",
   "pygments_lexer": "ipython3",
   "version": "3.7.0"
  }
 },
 "nbformat": 4,
 "nbformat_minor": 2
}
